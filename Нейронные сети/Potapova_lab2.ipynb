{
  "cells": [
    {
      "cell_type": "code",
      "execution_count": null,
      "metadata": {
        "colab": {
          "base_uri": "https://localhost:8080/"
        },
        "id": "mmrwCrtdL0sP",
        "outputId": "a0cace7a-bc83-4935-a854-4cce8b4d9b33"
      },
      "outputs": [
        {
          "output_type": "stream",
          "name": "stderr",
          "text": [
            "[nltk_data] Downloading package punkt to /root/nltk_data...\n",
            "[nltk_data]   Unzipping tokenizers/punkt.zip.\n"
          ]
        },
        {
          "output_type": "execute_result",
          "data": {
            "text/plain": [
              "True"
            ]
          },
          "metadata": {},
          "execution_count": 1
        }
      ],
      "source": [
        "import os\n",
        "import numpy as np\n",
        "import matplotlib.pyplot as plt\n",
        "\n",
        "import tensorflow as tf\n",
        "\n",
        "import nltk\n",
        "nltk.download('punkt')"
      ]
    },
    {
      "cell_type": "code",
      "execution_count": null,
      "metadata": {
        "colab": {
          "base_uri": "https://localhost:8080/",
          "height": 329
        },
        "id": "Ybpou8Ff2slV",
        "outputId": "b81a67b5-7838-4798-b229-1982c4c67c7b"
      },
      "outputs": [
        {
          "output_type": "error",
          "ename": "MessageError",
          "evalue": "ignored",
          "traceback": [
            "\u001b[0;31m---------------------------------------------------------------------------\u001b[0m",
            "\u001b[0;31mMessageError\u001b[0m                              Traceback (most recent call last)",
            "\u001b[0;32m<ipython-input-2-d5df0069828e>\u001b[0m in \u001b[0;36m<module>\u001b[0;34m\u001b[0m\n\u001b[1;32m      1\u001b[0m \u001b[0;32mfrom\u001b[0m \u001b[0mgoogle\u001b[0m\u001b[0;34m.\u001b[0m\u001b[0mcolab\u001b[0m \u001b[0;32mimport\u001b[0m \u001b[0mdrive\u001b[0m\u001b[0;34m\u001b[0m\u001b[0;34m\u001b[0m\u001b[0m\n\u001b[0;32m----> 2\u001b[0;31m \u001b[0mdrive\u001b[0m\u001b[0;34m.\u001b[0m\u001b[0mmount\u001b[0m\u001b[0;34m(\u001b[0m\u001b[0;34m'/content/drive'\u001b[0m\u001b[0;34m)\u001b[0m\u001b[0;34m\u001b[0m\u001b[0;34m\u001b[0m\u001b[0m\n\u001b[0m",
            "\u001b[0;32m/usr/local/lib/python3.7/dist-packages/google/colab/drive.py\u001b[0m in \u001b[0;36mmount\u001b[0;34m(mountpoint, force_remount, timeout_ms, readonly)\u001b[0m\n\u001b[1;32m    104\u001b[0m       \u001b[0mtimeout_ms\u001b[0m\u001b[0;34m=\u001b[0m\u001b[0mtimeout_ms\u001b[0m\u001b[0;34m,\u001b[0m\u001b[0;34m\u001b[0m\u001b[0;34m\u001b[0m\u001b[0m\n\u001b[1;32m    105\u001b[0m       \u001b[0mephemeral\u001b[0m\u001b[0;34m=\u001b[0m\u001b[0;32mTrue\u001b[0m\u001b[0;34m,\u001b[0m\u001b[0;34m\u001b[0m\u001b[0;34m\u001b[0m\u001b[0m\n\u001b[0;32m--> 106\u001b[0;31m       readonly=readonly)\n\u001b[0m\u001b[1;32m    107\u001b[0m \u001b[0;34m\u001b[0m\u001b[0m\n\u001b[1;32m    108\u001b[0m \u001b[0;34m\u001b[0m\u001b[0m\n",
            "\u001b[0;32m/usr/local/lib/python3.7/dist-packages/google/colab/drive.py\u001b[0m in \u001b[0;36m_mount\u001b[0;34m(mountpoint, force_remount, timeout_ms, ephemeral, readonly)\u001b[0m\n\u001b[1;32m    123\u001b[0m   \u001b[0;32mif\u001b[0m \u001b[0mephemeral\u001b[0m\u001b[0;34m:\u001b[0m\u001b[0;34m\u001b[0m\u001b[0;34m\u001b[0m\u001b[0m\n\u001b[1;32m    124\u001b[0m     _message.blocking_request(\n\u001b[0;32m--> 125\u001b[0;31m         'request_auth', request={'authType': 'dfs_ephemeral'}, timeout_sec=None)\n\u001b[0m\u001b[1;32m    126\u001b[0m \u001b[0;34m\u001b[0m\u001b[0m\n\u001b[1;32m    127\u001b[0m   \u001b[0mmountpoint\u001b[0m \u001b[0;34m=\u001b[0m \u001b[0m_os\u001b[0m\u001b[0;34m.\u001b[0m\u001b[0mpath\u001b[0m\u001b[0;34m.\u001b[0m\u001b[0mexpanduser\u001b[0m\u001b[0;34m(\u001b[0m\u001b[0mmountpoint\u001b[0m\u001b[0;34m)\u001b[0m\u001b[0;34m\u001b[0m\u001b[0;34m\u001b[0m\u001b[0m\n",
            "\u001b[0;32m/usr/local/lib/python3.7/dist-packages/google/colab/_message.py\u001b[0m in \u001b[0;36mblocking_request\u001b[0;34m(request_type, request, timeout_sec, parent)\u001b[0m\n\u001b[1;32m    169\u001b[0m   request_id = send_request(\n\u001b[1;32m    170\u001b[0m       request_type, request, parent=parent, expect_reply=True)\n\u001b[0;32m--> 171\u001b[0;31m   \u001b[0;32mreturn\u001b[0m \u001b[0mread_reply_from_input\u001b[0m\u001b[0;34m(\u001b[0m\u001b[0mrequest_id\u001b[0m\u001b[0;34m,\u001b[0m \u001b[0mtimeout_sec\u001b[0m\u001b[0;34m)\u001b[0m\u001b[0;34m\u001b[0m\u001b[0;34m\u001b[0m\u001b[0m\n\u001b[0m",
            "\u001b[0;32m/usr/local/lib/python3.7/dist-packages/google/colab/_message.py\u001b[0m in \u001b[0;36mread_reply_from_input\u001b[0;34m(message_id, timeout_sec)\u001b[0m\n\u001b[1;32m    100\u001b[0m         reply.get('colab_msg_id') == message_id):\n\u001b[1;32m    101\u001b[0m       \u001b[0;32mif\u001b[0m \u001b[0;34m'error'\u001b[0m \u001b[0;32min\u001b[0m \u001b[0mreply\u001b[0m\u001b[0;34m:\u001b[0m\u001b[0;34m\u001b[0m\u001b[0;34m\u001b[0m\u001b[0m\n\u001b[0;32m--> 102\u001b[0;31m         \u001b[0;32mraise\u001b[0m \u001b[0mMessageError\u001b[0m\u001b[0;34m(\u001b[0m\u001b[0mreply\u001b[0m\u001b[0;34m[\u001b[0m\u001b[0;34m'error'\u001b[0m\u001b[0;34m]\u001b[0m\u001b[0;34m)\u001b[0m\u001b[0;34m\u001b[0m\u001b[0;34m\u001b[0m\u001b[0m\n\u001b[0m\u001b[1;32m    103\u001b[0m       \u001b[0;32mreturn\u001b[0m \u001b[0mreply\u001b[0m\u001b[0;34m.\u001b[0m\u001b[0mget\u001b[0m\u001b[0;34m(\u001b[0m\u001b[0;34m'data'\u001b[0m\u001b[0;34m,\u001b[0m \u001b[0;32mNone\u001b[0m\u001b[0;34m)\u001b[0m\u001b[0;34m\u001b[0m\u001b[0;34m\u001b[0m\u001b[0m\n\u001b[1;32m    104\u001b[0m \u001b[0;34m\u001b[0m\u001b[0m\n",
            "\u001b[0;31mMessageError\u001b[0m: Error: credential propagation was unsuccessful"
          ]
        }
      ],
      "source": [
        "from google.colab import drive\n",
        "drive.mount('/content/drive')"
      ]
    },
    {
      "cell_type": "code",
      "execution_count": null,
      "metadata": {
        "id": "ApfbLzOX_ySF"
      },
      "outputs": [],
      "source": [
        "data_path = '/content/drive/MyDrive/'\n",
        "with open('data.txt', 'w') as output_file:\n",
        "    for input_file in os.listdir(data_path):\n",
        "        if input_file.endswith('txt'):\n",
        "            with open('/'.join([data_path, input_file])) as input_file:\n",
        "                for l in input_file:\n",
        "                    output_file.write(l)"
      ]
    },
    {
      "cell_type": "code",
      "execution_count": null,
      "metadata": {
        "colab": {
          "base_uri": "https://localhost:8080/"
        },
        "id": "V2eHtlT5JOZe",
        "outputId": "19c3e0fc-c822-4c9f-f4cd-1ad1a1c78d66"
      },
      "outputs": [
        {
          "name": "stdout",
          "output_type": "stream",
          "text": [
            "Text length: 28185 words\n",
            "['annotation', 'писарев', 'дмитрий', 'иванович', 'писарев', 'дмитрий', 'иванович', 'историческое', 'развитие', 'европейской', 'мысли', 'д.', 'и.', 'писарев', 'историческое', 'развитие', 'европейской', 'мысли', 'i', 'лет', 'за', 'восемьсот', 'до', 'рождества', 'христова']\n"
          ]
        }
      ],
      "source": [
        "import string\n",
        "exclude = set(string.punctuation)\n",
        "exclude.remove('.')\n",
        "\n",
        "text = open('/content/drive/MyDrive/data.txt', 'r').read().lower()\n",
        "text = ''.join([w for w in text if not w.isdigit() and w not in exclude])\n",
        "text = nltk.word_tokenize(text)\n",
        "print (f'Text length: {len(text)} words')\n",
        "print(text[:25])"
      ]
    },
    {
      "cell_type": "code",
      "execution_count": null,
      "metadata": {
        "colab": {
          "base_uri": "https://localhost:8080/"
        },
        "id": "bymYYHHxMV3x",
        "outputId": "965e49c3-f5c6-423e-bd3e-22cf9dbda4e8"
      },
      "outputs": [
        {
          "name": "stdout",
          "output_type": "stream",
          "text": [
            "Unique words: 9578\n"
          ]
        }
      ],
      "source": [
        "vocab = sorted(set(text))\n",
        "print (f'Unique words: {len(vocab)}')\n"
      ]
    },
    {
      "cell_type": "code",
      "execution_count": null,
      "metadata": {
        "id": "g59GdILVNJnS"
      },
      "outputs": [],
      "source": [
        "word2idx = {u:i for i, u in enumerate(vocab)}\n",
        "idx2word = np.array(vocab)\n",
        "\n",
        "text_as_int = np.array([word2idx[c] for c in text])"
      ]
    },
    {
      "cell_type": "code",
      "execution_count": null,
      "metadata": {
        "colab": {
          "base_uri": "https://localhost:8080/"
        },
        "id": "5z51VuQvNTna",
        "outputId": "8bf67c92-7cbb-4a69-e4bc-e422fce40ebd"
      },
      "outputs": [
        {
          "name": "stdout",
          "output_type": "stream",
          "text": [
            "  '.'   :   0\n",
            "  '...' :   1\n",
            "  'a'   :   2\n",
            "  'ad'  :   3\n",
            "  'annotation':   4\n",
            "  'brescia':   5\n",
            "  'chemise':   6\n",
            "  'cipher':   7\n",
            "  'coton':   8\n",
            "  'dei' :   9\n",
            "  'development':  10\n",
            "  'diabolo':  11\n",
            "  'draper':  12\n",
            "  'et'  :  13\n",
            "  'europe':  14\n",
            "  'fecit':  15\n",
            "  'finivit':  16\n",
            "  'gloriam':  17\n",
            "  'history':  18\n",
            "  'homagium':  19\n"
          ]
        }
      ],
      "source": [
        "for word, r in zip(word2idx, range(20)):\n",
        "    print('  {:6s}: {:3d}'.format(repr(word), word2idx[word]))"
      ]
    },
    {
      "cell_type": "code",
      "execution_count": null,
      "metadata": {
        "colab": {
          "base_uri": "https://localhost:8080/"
        },
        "id": "TRA7_k3Iogzx",
        "outputId": "cb36184f-0d6d-4389-ab21-fd2136fb0e22"
      },
      "outputs": [
        {
          "name": "stdout",
          "output_type": "stream",
          "text": [
            "annotation\n",
            "писарев\n",
            "дмитрий\n",
            "иванович\n",
            "писарев\n"
          ]
        }
      ],
      "source": [
        "seq_length = 20\n",
        "examples_per_epoch = len(text) // (seq_length + 1)\n",
        "\n",
        "char_dataset = tf.data.Dataset.from_tensor_slices(text_as_int)\n",
        "\n",
        "for i in char_dataset.take(5):\n",
        "  print(idx2word[i.numpy()])"
      ]
    },
    {
      "cell_type": "code",
      "execution_count": null,
      "metadata": {
        "colab": {
          "base_uri": "https://localhost:8080/"
        },
        "id": "bhMqG6dypmq-",
        "outputId": "7dff6e0d-4adf-4e06-fb30-f4f2007e506c"
      },
      "outputs": [
        {
          "name": "stdout",
          "output_type": "stream",
          "text": [
            "'annotation писарев дмитрий иванович писарев дмитрий иванович историческое развитие европейской мысли д. и. писарев историческое развитие европейской мысли i лет за'\n",
            "'восемьсот до рождества христова полудикий греческий народ с напряженным вниманием и с ребяческою доверчивостью слушал песни странствующих певцов о подвигах геркулеса'\n",
            "'и тезея о путешествии аргонавтов в колхиду за золотым руном о быстроногом ахиллесе о хитроумном одиссее о падении илиона о несчастиях'\n",
            "'и преступлениях атридов и потомков кадма . в этих песнях заключалась вся мудрость тогдашнего грека . тут была и религиозная догматика'\n",
            "'и нравственная философия и история и физика и астрономия все это было смешано в одну пеструю кучу и все вместе считалось'\n"
          ]
        }
      ],
      "source": [
        "sequences = char_dataset.batch(seq_length+1, drop_remainder=True)\n",
        "\n",
        "for item in sequences.take(5):\n",
        "  print(repr(' '.join(idx2word[item.numpy()])))"
      ]
    },
    {
      "cell_type": "code",
      "execution_count": null,
      "metadata": {
        "id": "9ApNclP7qCvl"
      },
      "outputs": [],
      "source": [
        "def split_input_target(chunk):\n",
        "    input_text = chunk[:-1]\n",
        "    target_text = chunk[1:]\n",
        "    return input_text, target_text\n",
        "\n",
        "dataset = sequences.map(split_input_target)"
      ]
    },
    {
      "cell_type": "code",
      "execution_count": null,
      "metadata": {
        "colab": {
          "base_uri": "https://localhost:8080/"
        },
        "id": "DUj4R7wRn8t5",
        "outputId": "a9fae1ef-753f-4ba4-f32a-e4c24a927108"
      },
      "outputs": [
        {
          "name": "stdout",
          "output_type": "stream",
          "text": [
            "Input data:  'annotation писарев дмитрий иванович писарев дмитрий иванович историческое развитие европейской мысли д. и. писарев историческое развитие европейской мысли i лет'\n",
            "Target data: 'писарев дмитрий иванович писарев дмитрий иванович историческое развитие европейской мысли д. и. писарев историческое развитие европейской мысли i лет за'\n"
          ]
        }
      ],
      "source": [
        "for input_example, target_example in  dataset.take(1):\n",
        "  print ('Input data: ', repr(' '.join(idx2word[input_example.numpy()])))\n",
        "  print ('Target data:', repr(' '.join(idx2word[target_example.numpy()])))\n"
      ]
    },
    {
      "cell_type": "code",
      "execution_count": null,
      "metadata": {
        "colab": {
          "base_uri": "https://localhost:8080/"
        },
        "id": "kzV_PwGFqDXE",
        "outputId": "2ff1023f-989a-4ed8-f04d-6a3824604648"
      },
      "outputs": [
        {
          "name": "stdout",
          "output_type": "stream",
          "text": [
            "Step    0\n",
            "  input: 4 ('annotation')\n",
            "  expected output: 5489 ('писарев')\n",
            "Step    1\n",
            "  input: 5489 ('писарев')\n",
            "  expected output: 1827 ('дмитрий')\n",
            "Step    2\n",
            "  input: 1827 ('дмитрий')\n",
            "  expected output: 2617 ('иванович')\n",
            "Step    3\n",
            "  input: 2617 ('иванович')\n",
            "  expected output: 5489 ('писарев')\n",
            "Step    4\n",
            "  input: 5489 ('писарев')\n",
            "  expected output: 1827 ('дмитрий')\n"
          ]
        }
      ],
      "source": [
        "for i, (input_idx, target_idx) in enumerate(zip(input_example[:5], target_example[:5])):\n",
        "    print(\"Step {:4d}\".format(i))\n",
        "    print(\"  input: {} ({:s})\".format(input_idx, repr(idx2word[input_idx])))\n",
        "    print(\"  expected output: {} ({:s})\".format(target_idx, repr(idx2word[target_idx])))"
      ]
    },
    {
      "cell_type": "code",
      "execution_count": null,
      "metadata": {
        "id": "4TH3ITftrX_z"
      },
      "outputs": [],
      "source": [
        "# Batch size\n",
        "BATCH_SIZE = 64\n",
        "\n",
        "# Buffer size to shuffle the dataset\n",
        "# (TF data is designed to work with possibly infinite sequences,\n",
        "# so it doesn't attempt to shuffle the entire sequence in memory. Instead,\n",
        "# it maintains a buffer in which it shuffles elements).\n",
        "BUFFER_SIZE = 1000\n",
        "\n",
        "dataset = dataset.shuffle(BUFFER_SIZE).batch(BATCH_SIZE, drop_remainder=True)"
      ]
    },
    {
      "cell_type": "code",
      "execution_count": null,
      "metadata": {
        "id": "DGurXXIUreCK"
      },
      "outputs": [],
      "source": [
        "EPOCHS = 100\n",
        "\n",
        "# Length of the vocabulary in chars\n",
        "vocab_size = len(vocab)\n",
        "\n",
        "emb_dim = 512\n",
        "\n",
        "rnn_units = 128 \n",
        "rnn_units1 = 32 "
      ]
    },
    {
      "cell_type": "code",
      "execution_count": null,
      "metadata": {
        "id": "-mF9bnye8l-9"
      },
      "outputs": [],
      "source": [
        "def loss(labels, logits):\n",
        "    return tf.keras.losses.sparse_categorical_crossentropy(labels, logits, from_logits=True)"
      ]
    },
    {
      "cell_type": "code",
      "execution_count": null,
      "metadata": {
        "id": "6YZzthFUrghb"
      },
      "outputs": [],
      "source": [
        "def model_GRU(vocab_size, emb_dim, rnn_units, batch_size):\n",
        "    model = tf.keras.Sequential([\n",
        "        tf.keras.layers.Embedding(vocab_size, emb_dim,\n",
        "                                batch_input_shape=[batch_size, None]),\n",
        "        tf.keras.layers.GRU(rnn_units,\n",
        "                            return_sequences=True,\n",
        "                            recurrent_initializer='glorot_uniform'),\n",
        "        tf.keras.layers.Dense(vocab_size)\n",
        "    ])\n",
        "    return model"
      ]
    },
    {
      "cell_type": "code",
      "execution_count": null,
      "metadata": {
        "colab": {
          "background_save": true,
          "base_uri": "https://localhost:8080/"
        },
        "id": "6qbcWztAvO6e",
        "outputId": "852d2e57-a7aa-4ea1-bb0d-2950cf6644e9"
      },
      "outputs": [
        {
          "name": "stdout",
          "output_type": "stream",
          "text": [
            "Epoch 1/100\n",
            "20/20 [==============================] - 9s 356ms/step - loss: 9.1179\n",
            "Epoch 2/100\n",
            "20/20 [==============================] - 6s 312ms/step - loss: 8.1683\n",
            "Epoch 3/100\n",
            "20/20 [==============================] - 6s 314ms/step - loss: 7.8216\n",
            "Epoch 4/100\n",
            "20/20 [==============================] - 6s 314ms/step - loss: 7.7560\n",
            "Epoch 5/100\n",
            "20/20 [==============================] - 6s 314ms/step - loss: 7.7176\n",
            "Epoch 6/100\n",
            "20/20 [==============================] - 6s 314ms/step - loss: 7.6967\n",
            "Epoch 7/100\n",
            "20/20 [==============================] - 6s 315ms/step - loss: 7.6616\n",
            "Epoch 8/100\n",
            "20/20 [==============================] - 6s 309ms/step - loss: 7.6423\n",
            "Epoch 9/100\n",
            "20/20 [==============================] - 6s 312ms/step - loss: 7.6022\n",
            "Epoch 10/100\n",
            "20/20 [==============================] - 6s 312ms/step - loss: 7.5603\n",
            "Epoch 11/100\n",
            "20/20 [==============================] - 6s 309ms/step - loss: 7.5149\n",
            "Epoch 12/100\n",
            "20/20 [==============================] - 6s 310ms/step - loss: 7.4401\n",
            "Epoch 13/100\n",
            "20/20 [==============================] - 6s 308ms/step - loss: 7.3669\n",
            "Epoch 14/100\n",
            "20/20 [==============================] - 6s 306ms/step - loss: 7.2719\n",
            "Epoch 15/100\n",
            "20/20 [==============================] - 6s 306ms/step - loss: 7.1897\n",
            "Epoch 16/100\n",
            "20/20 [==============================] - 6s 309ms/step - loss: 7.1019\n",
            "Epoch 17/100\n",
            "20/20 [==============================] - 6s 306ms/step - loss: 7.0229\n",
            "Epoch 18/100\n",
            "20/20 [==============================] - 6s 308ms/step - loss: 6.9384\n",
            "Epoch 19/100\n",
            "20/20 [==============================] - 6s 307ms/step - loss: 6.8565\n",
            "Epoch 20/100\n",
            "20/20 [==============================] - 6s 306ms/step - loss: 6.7769\n",
            "Epoch 21/100\n",
            "20/20 [==============================] - 6s 308ms/step - loss: 6.6966\n",
            "Epoch 22/100\n",
            "20/20 [==============================] - 6s 307ms/step - loss: 6.6166\n",
            "Epoch 23/100\n",
            "20/20 [==============================] - 6s 308ms/step - loss: 6.5356\n",
            "Epoch 24/100\n",
            "20/20 [==============================] - 6s 305ms/step - loss: 6.4573\n",
            "Epoch 25/100\n",
            "20/20 [==============================] - 6s 303ms/step - loss: 6.3779\n",
            "Epoch 26/100\n",
            "20/20 [==============================] - 6s 305ms/step - loss: 6.2949\n",
            "Epoch 27/100\n",
            "20/20 [==============================] - 6s 307ms/step - loss: 6.2107\n",
            "Epoch 28/100\n",
            "20/20 [==============================] - 6s 306ms/step - loss: 6.1255\n",
            "Epoch 29/100\n",
            "20/20 [==============================] - 6s 306ms/step - loss: 6.0501\n",
            "Epoch 30/100\n",
            "20/20 [==============================] - 6s 304ms/step - loss: 5.9585\n",
            "Epoch 31/100\n",
            "20/20 [==============================] - 6s 307ms/step - loss: 5.8681\n",
            "Epoch 32/100\n",
            "20/20 [==============================] - 6s 303ms/step - loss: 5.7787\n",
            "Epoch 33/100\n",
            "20/20 [==============================] - 6s 304ms/step - loss: 5.6892\n",
            "Epoch 34/100\n",
            "20/20 [==============================] - 6s 303ms/step - loss: 5.5989\n",
            "Epoch 35/100\n",
            "20/20 [==============================] - 6s 304ms/step - loss: 5.5018\n",
            "Epoch 36/100\n",
            "20/20 [==============================] - 6s 298ms/step - loss: 5.4103\n",
            "Epoch 37/100\n",
            "20/20 [==============================] - 6s 303ms/step - loss: 5.3161\n",
            "Epoch 38/100\n",
            "20/20 [==============================] - 6s 302ms/step - loss: 5.2175\n",
            "Epoch 39/100\n",
            "20/20 [==============================] - 6s 305ms/step - loss: 5.1175\n",
            "Epoch 40/100\n",
            "20/20 [==============================] - 6s 303ms/step - loss: 5.0254\n",
            "Epoch 41/100\n",
            "20/20 [==============================] - 6s 302ms/step - loss: 4.9244\n",
            "Epoch 42/100\n",
            "20/20 [==============================] - 6s 302ms/step - loss: 4.8354\n",
            "Epoch 43/100\n",
            "20/20 [==============================] - 6s 301ms/step - loss: 4.7435\n",
            "Epoch 44/100\n",
            "20/20 [==============================] - 6s 302ms/step - loss: 4.6485\n",
            "Epoch 45/100\n",
            "20/20 [==============================] - 6s 301ms/step - loss: 4.5494\n",
            "Epoch 46/100\n",
            "20/20 [==============================] - 6s 302ms/step - loss: 4.4615\n",
            "Epoch 47/100\n",
            "20/20 [==============================] - 6s 301ms/step - loss: 4.3660\n",
            "Epoch 48/100\n",
            "20/20 [==============================] - 6s 300ms/step - loss: 4.2720\n",
            "Epoch 49/100\n",
            "20/20 [==============================] - 6s 302ms/step - loss: 4.1886\n",
            "Epoch 50/100\n",
            "20/20 [==============================] - 6s 304ms/step - loss: 4.0952\n",
            "Epoch 51/100\n",
            "20/20 [==============================] - 6s 304ms/step - loss: 4.0104\n",
            "Epoch 52/100\n",
            "20/20 [==============================] - 6s 305ms/step - loss: 3.9203\n",
            "Epoch 53/100\n",
            "20/20 [==============================] - 6s 305ms/step - loss: 3.8392\n",
            "Epoch 54/100\n",
            "20/20 [==============================] - 6s 304ms/step - loss: 3.7532\n",
            "Epoch 55/100\n",
            "20/20 [==============================] - 6s 306ms/step - loss: 3.6681\n",
            "Epoch 56/100\n",
            "20/20 [==============================] - 6s 307ms/step - loss: 3.5899\n",
            "Epoch 57/100\n",
            "20/20 [==============================] - 6s 306ms/step - loss: 3.5111\n",
            "Epoch 58/100\n",
            "20/20 [==============================] - 6s 305ms/step - loss: 3.4400\n",
            "Epoch 59/100\n",
            "20/20 [==============================] - 6s 305ms/step - loss: 3.3664\n",
            "Epoch 60/100\n",
            "20/20 [==============================] - 6s 305ms/step - loss: 3.2866\n",
            "Epoch 61/100\n",
            "20/20 [==============================] - 6s 305ms/step - loss: 3.2210\n",
            "Epoch 62/100\n",
            "20/20 [==============================] - 6s 308ms/step - loss: 3.1520\n",
            "Epoch 63/100\n",
            "20/20 [==============================] - 6s 304ms/step - loss: 3.0836\n",
            "Epoch 64/100\n",
            "20/20 [==============================] - 6s 303ms/step - loss: 3.0165\n",
            "Epoch 65/100\n",
            "20/20 [==============================] - 6s 303ms/step - loss: 2.9560\n",
            "Epoch 66/100\n",
            "20/20 [==============================] - 6s 302ms/step - loss: 2.8986\n",
            "Epoch 67/100\n",
            "20/20 [==============================] - 6s 301ms/step - loss: 2.8385\n",
            "Epoch 68/100\n",
            "20/20 [==============================] - 9s 463ms/step - loss: 2.7799\n",
            "Epoch 69/100\n",
            "20/20 [==============================] - 6s 306ms/step - loss: 2.7297\n",
            "Epoch 70/100\n",
            "20/20 [==============================] - 6s 308ms/step - loss: 2.6746\n",
            "Epoch 71/100\n",
            "20/20 [==============================] - 6s 306ms/step - loss: 2.6272\n",
            "Epoch 72/100\n",
            "20/20 [==============================] - 6s 304ms/step - loss: 2.5748\n",
            "Epoch 73/100\n",
            "20/20 [==============================] - 6s 306ms/step - loss: 2.5276\n",
            "Epoch 74/100\n",
            "20/20 [==============================] - 6s 305ms/step - loss: 2.4808\n",
            "Epoch 75/100\n",
            "20/20 [==============================] - 6s 305ms/step - loss: 2.4360\n",
            "Epoch 76/100\n",
            "20/20 [==============================] - 6s 307ms/step - loss: 2.3921\n",
            "Epoch 77/100\n",
            "20/20 [==============================] - 6s 303ms/step - loss: 2.3557\n",
            "Epoch 78/100\n",
            "20/20 [==============================] - 6s 306ms/step - loss: 2.3073\n",
            "Epoch 79/100\n",
            "20/20 [==============================] - 6s 308ms/step - loss: 2.2697\n",
            "Epoch 80/100\n",
            "20/20 [==============================] - 6s 305ms/step - loss: 2.2336\n",
            "Epoch 81/100\n",
            "20/20 [==============================] - 6s 306ms/step - loss: 2.1941\n",
            "Epoch 82/100\n",
            "20/20 [==============================] - 6s 304ms/step - loss: 2.1616\n",
            "Epoch 83/100\n",
            "20/20 [==============================] - 6s 302ms/step - loss: 2.1254\n",
            "Epoch 84/100\n",
            "20/20 [==============================] - 6s 303ms/step - loss: 2.0834\n",
            "Epoch 85/100\n",
            "20/20 [==============================] - 6s 303ms/step - loss: 2.0562\n",
            "Epoch 86/100\n",
            "20/20 [==============================] - 6s 304ms/step - loss: 2.0206\n",
            "Epoch 87/100\n",
            "20/20 [==============================] - 6s 303ms/step - loss: 1.9941\n",
            "Epoch 88/100\n",
            "20/20 [==============================] - 6s 304ms/step - loss: 1.9624\n",
            "Epoch 89/100\n",
            "20/20 [==============================] - 6s 303ms/step - loss: 1.9255\n",
            "Epoch 90/100\n",
            "20/20 [==============================] - 6s 303ms/step - loss: 1.8984\n",
            "Epoch 91/100\n",
            "20/20 [==============================] - 6s 303ms/step - loss: 1.8717\n",
            "Epoch 92/100\n",
            "20/20 [==============================] - 6s 302ms/step - loss: 1.8425\n",
            "Epoch 93/100\n",
            "20/20 [==============================] - 6s 301ms/step - loss: 1.8122\n",
            "Epoch 94/100\n",
            "20/20 [==============================] - 6s 301ms/step - loss: 1.7867\n",
            "Epoch 95/100\n",
            "20/20 [==============================] - 6s 302ms/step - loss: 1.7635\n",
            "Epoch 96/100\n",
            "20/20 [==============================] - 6s 299ms/step - loss: 1.7365\n",
            "Epoch 97/100\n",
            "20/20 [==============================] - 6s 302ms/step - loss: 1.7088\n",
            "Epoch 98/100\n",
            "20/20 [==============================] - 6s 303ms/step - loss: 1.6884\n",
            "Epoch 99/100\n",
            "20/20 [==============================] - 6s 301ms/step - loss: 1.6611\n",
            "Epoch 100/100\n",
            "20/20 [==============================] - 6s 301ms/step - loss: 1.6413\n"
          ]
        }
      ],
      "source": [
        "checkpoint_dir = './checkpoints'\n",
        "checkpoint_prefix = os.path.join(checkpoint_dir, \"ckpt_{epoch}\")\n",
        "\n",
        "checkpoint_callback=tf.keras.callbacks.ModelCheckpoint(\n",
        "    filepath=checkpoint_prefix,\n",
        "    save_weights_only=True)\n",
        "\n",
        "model = model_GRU(vocab_size = len(vocab), emb_dim=emb_dim,\n",
        "                    rnn_units=rnn_units, batch_size=BATCH_SIZE)\n",
        "model.compile(optimizer='adam', loss=loss)\n",
        "history2 = model.fit(dataset, epochs=EPOCHS, callbacks=[checkpoint_callback])\n",
        "\n",
        "tf.train.latest_checkpoint(checkpoint_dir)\n",
        "\n",
        "model = model_GRU(vocab_size, emb_dim, rnn_units, batch_size=1)\n",
        "model.load_weights(tf.train.latest_checkpoint(checkpoint_dir))\n",
        "model.build(tf.TensorShape([1, None]))"
      ]
    },
    {
      "cell_type": "code",
      "execution_count": null,
      "metadata": {
        "id": "kld7TNa5s1nR"
      },
      "outputs": [],
      "source": [
        "epoch_count = range(1, EPOCHS + 1)\n",
        "\n",
        "def generate_text(model, start_string):\n",
        "  # Evaluation step (generating text using the learned model)\n",
        "\n",
        "  # Number of characters to generate\n",
        "  num_generate = 20\n",
        "\n",
        "  # Converting our start string to numbers (vectorizing)\n",
        "  input_eval = [word2idx[s] for s in start_string.split()]\n",
        "  input_eval = tf.expand_dims(input_eval, 0)\n",
        "\n",
        "  # Empty string to store our results\n",
        "  text_generated = []\n",
        "\n",
        "  # Low temperatures results in more predictable text.\n",
        "  # Higher temperatures results in more surprising text.\n",
        "  # Experiment to find the best setting.\n",
        "  temperature = 1.0\n",
        "\n",
        "  # Here batch size == 1\n",
        "  model.reset_states()\n",
        "  for i in range(num_generate):\n",
        "      predictions = model(input_eval)\n",
        "      # remove the batch dimension\n",
        "      predictions = tf.squeeze(predictions, 0)\n",
        "\n",
        "      # using a categorical distribution to predict the character returned by the model\n",
        "      predictions = predictions / temperature\n",
        "      predicted_id = tf.random.categorical(predictions, num_samples=1)[-1,0].numpy()\n",
        "\n",
        "      # We pass the predicted character as the next input to the model\n",
        "      # along with the previous hidden state\n",
        "      input_eval = tf.expand_dims([predicted_id], 0)\n",
        "\n",
        "      text_generated.append(idx2word[predicted_id])\n",
        "\n",
        "  return (start_string + ' '.join(text_generated))"
      ]
    },
    {
      "cell_type": "code",
      "execution_count": null,
      "metadata": {
        "colab": {
          "base_uri": "https://localhost:8080/",
          "height": 314
        },
        "id": "X6QeZ9_zuCm4",
        "outputId": "3b278af2-f82c-45a4-d227-5e02dd7a8a6a"
      },
      "outputs": [
        {
          "output_type": "stream",
          "name": "stdout",
          "text": [
            "GRU (10 слов)\n"
          ]
        },
        {
          "output_type": "display_data",
          "data": {
            "text/plain": [
              "<Figure size 432x288 with 1 Axes>"
            ],
            "image/png": "[encoded data removed]"
          },
          "metadata": {
            "needs_background": "light"
          }
        },
        {
          "output_type": "stream",
          "name": "stdout",
          "text": [
            "все древние участвовали в воздухе войне этажерки уголовными вычислять и осквернить\n"
          ]
        }
      ],
      "source": [
        "print(\"GRU (10 слов)\")\n",
        "loss = history2.history['loss']\n",
        "plt.plot(epoch_count, loss)\n",
        "plt.xlabel('Epoch')\n",
        "plt.ylabel('Loss')\n",
        "plt.show()\n",
        "\n",
        "print(generate_text(model, start_string=u\"все \"))"
      ]
    },
    {
      "cell_type": "code",
      "source": [
        "print(\"GRU\")\n",
        "loss = history2.history['loss']\n",
        "plt.plot(epoch_count, loss)\n",
        "plt.xlabel('Epoch')\n",
        "plt.ylabel('Loss')\n",
        "plt.show()\n",
        "\n",
        "print(generate_text(model, start_string=u\"в \"))"
      ],
      "metadata": {
        "colab": {
          "base_uri": "https://localhost:8080/",
          "height": 314
        },
        "id": "fJW_j7OIGpv0",
        "outputId": "9793c3da-c77d-46f4-f90d-934381140b2a"
      },
      "execution_count": null,
      "outputs": [
        {
          "output_type": "stream",
          "name": "stdout",
          "text": [
            "GRU\n"
          ]
        },
        {
          "output_type": "display_data",
          "data": {
            "text/plain": [
              "<Figure size 432x288 with 1 Axes>"
            ],
            "image/png": "[encoded data removed]"
          },
          "metadata": {
            "needs_background": "light"
          }
        },
        {
          "output_type": "stream",
          "name": "stdout",
          "text": [
            "в цветущее время нелепости ловили ужиться достоянием все древние врагов и бороться . по алхимиков и нравственная золотым мужественною мироздания т.\n"
          ]
        }
      ]
    }
  ],
  "metadata": {
    "colab": {
      "provenance": []
    },
    "kernelspec": {
      "display_name": "Python 3",
      "language": "python",
      "name": "python3"
    },
    "language_info": {
      "codemirror_mode": {
        "name": "ipython",
        "version": 3
      },
      "file_extension": ".py",
      "mimetype": "text/x-python",
      "name": "python",
      "nbconvert_exporter": "python",
      "pygments_lexer": "ipython3",
      "version": "3.7.6"
    }
  },
  "nbformat": 4,
  "nbformat_minor": 0
}